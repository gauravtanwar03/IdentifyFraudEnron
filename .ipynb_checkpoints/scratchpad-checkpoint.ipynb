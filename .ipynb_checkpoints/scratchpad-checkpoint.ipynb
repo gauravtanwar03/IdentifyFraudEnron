{
 "cells": [
  {
   "cell_type": "code",
   "execution_count": 2,
   "metadata": {
    "collapsed": false
   },
   "outputs": [],
   "source": [
    "import sys\n",
    "import pickle\n",
    "sys.path.append(\"../tools/\")\n",
    "\n",
    "from feature_format import featureFormat, targetFeatureSplit\n",
    "from tester import dump_classifier_and_data\n",
    "\n",
    "import numpy as np\n",
    "import pandas as pd\n",
    "\n",
    "import matplotlib.pyplot as plt\n",
    "%matplotlib inline\n",
    "\n",
    "import warnings\n",
    "warnings.filterwarnings('ignore')"
   ]
  },
  {
   "cell_type": "code",
   "execution_count": 3,
   "metadata": {
    "collapsed": false
   },
   "outputs": [],
   "source": [
    "with open(\"final_project_dataset.pkl\", \"r\") as data_file:\n",
    "    data_dict = pickle.load(data_file)\n",
    "df = pd.DataFrame.from_dict(data_dict, orient='index')\n",
    "df = df.replace('NaN', np.nan)"
   ]
  },
  {
   "cell_type": "markdown",
   "metadata": {},
   "source": [
    "## Understanding the Dataset"
   ]
  },
  {
   "cell_type": "code",
   "execution_count": 4,
   "metadata": {
    "collapsed": false
   },
   "outputs": [
    {
     "name": "stdout",
     "output_type": "stream",
     "text": [
      "Number of people: 146\n",
      "Number of POIs: 18\n",
      "Fraction of examples that are POIs: 0.123287671233\n",
      "Number of features: 21\n"
     ]
    }
   ],
   "source": [
    "# statistics about the data set\n",
    "print 'Number of people:', df['poi'].count()\n",
    "print 'Number of POIs:', df.loc[df.poi == True, 'poi'].count()\n",
    "print 'Fraction of examples that are POIs:', \\\n",
    "    float(df.loc[df.poi == True, 'poi'].count()) / df['poi'].count()\n",
    "print 'Number of features:', df.shape[1]"
   ]
  },
  {
   "cell_type": "code",
   "execution_count": 5,
   "metadata": {
    "collapsed": false
   },
   "outputs": [
    {
     "name": "stdout",
     "output_type": "stream",
     "text": [
      "Missing data in each column\n"
     ]
    },
    {
     "data": {
      "text/plain": [
       "salary                        51\n",
       "to_messages                   60\n",
       "deferral_payments            107\n",
       "total_payments                21\n",
       "exercised_stock_options       44\n",
       "bonus                         64\n",
       "restricted_stock              36\n",
       "shared_receipt_with_poi       60\n",
       "restricted_stock_deferred    128\n",
       "total_stock_value             20\n",
       "expenses                      51\n",
       "loan_advances                142\n",
       "from_messages                 60\n",
       "other                         53\n",
       "from_this_person_to_poi       60\n",
       "poi                            0\n",
       "director_fees                129\n",
       "deferred_income               97\n",
       "long_term_incentive           80\n",
       "email_address                 35\n",
       "from_poi_to_this_person       60\n",
       "dtype: int64"
      ]
     },
     "execution_count": 5,
     "metadata": {},
     "output_type": "execute_result"
    }
   ],
   "source": [
    "#The counts of NaNs in each column\n",
    "print 'Missing data in each column'\n",
    "df.isnull().sum()"
   ]
  },
  {
   "cell_type": "markdown",
   "metadata": {},
   "source": [
    "Looking at the distribution of the missing data we can see that the counts for all the email features are the same. This suggests that one of the processes that is causing the missing data is lack of email data for certain persons. \n",
    "\n",
    "This suggests the possibility of a new feature to me. It may be the case that persons involved in the fraud were able to encrypt or otherwise prevent their emails from coming into the hands of the courts. To tests this hypothesis I will create the feature and look at the counts of POI/non_POI."
   ]
  },
  {
   "cell_type": "code",
   "execution_count": 6,
   "metadata": {
    "collapsed": false
   },
   "outputs": [
    {
     "data": {
      "text/plain": [
       "email_withheld  poi  \n",
       "False           False    72\n",
       "                True     14\n",
       "True            False    56\n",
       "                True      4\n",
       "Name: poi, dtype: int64"
      ]
     },
     "execution_count": 6,
     "metadata": {},
     "output_type": "execute_result"
    }
   ],
   "source": [
    "df['email_withheld'] = df.to_messages.isnull()\n",
    "df.groupby(['email_withheld', 'poi'])['poi'].count()"
   ]
  },
  {
   "cell_type": "markdown",
   "metadata": {},
   "source": [
    "From inspection this feature does not appear to be particularly informative however will include it in the model as it could be a useful feature for growing decision trees. \n",
    "\n",
    "The financial features are less predictable in how the values are missing. One way of interpreting this data is that a NaN value is equivalent to a zero. For example if an employee did not receive a bonus then this value could be assigned NaN. This view is supported by the insider pay pdf document in how the totals are calculated. I decided to replace all the NaNs in the financial features with zero."
   ]
  },
  {
   "cell_type": "code",
   "execution_count": 7,
   "metadata": {
    "collapsed": false
   },
   "outputs": [],
   "source": [
    "financial_features = ['salary', 'deferral_payments', 'total_payments', 'loan_advances', 'bonus', 'restricted_stock_deferred', 'deferred_income', 'total_stock_value', 'expenses', 'exercised_stock_options', 'other', 'long_term_incentive', 'restricted_stock', 'director_fees']\n",
    "email_features = ['to_messages', 'from_poi_to_this_person', 'from_messages', 'from_this_person_to_poi', 'shared_receipt_with_poi']"
   ]
  },
  {
   "cell_type": "code",
   "execution_count": 8,
   "metadata": {
    "collapsed": false
   },
   "outputs": [],
   "source": [
    "df[financial_features] = df[financial_features].fillna(0)"
   ]
  },
  {
   "cell_type": "markdown",
   "metadata": {},
   "source": [
    "As for the email features. Firstly I decided to drop the email address column as this is uninformative for a machine learning algorithm. Some possibilities for how to deal with the missing values are:\n",
    "- Drop rows that contain missing values\n",
    "- Impute the missing values with some function of the columns\n",
    "- Develop two independent classifiers for the email and financial features and combining their outputs\n",
    "\n",
    "If we drop the rows containing NaNs this will mean losing almost half of our training data which is not acceptable.  Creating two classifiers could be an elegant solution but its implementation may be too complex for this project. Additionally a learner would be unable to learn interactions between financial and email features. \n",
    "\n",
    "I decided to go with the imputation method using the median of the columns. "
   ]
  },
  {
   "cell_type": "code",
   "execution_count": 9,
   "metadata": {
    "collapsed": false
   },
   "outputs": [],
   "source": [
    "df[email_features] = df[email_features].fillna(df[email_features].median())"
   ]
  },
  {
   "cell_type": "markdown",
   "metadata": {},
   "source": [
    "## Identifying Outliers\n",
    "Now we have processed the raw data so it does not contain NaN values we need to remove any outlier records that may cause our algorithms to perform poorly further down the track. Probably the best way to identify outliers at this stage is by producing plots. The seaborn library is used to make a pair plot of a few variables of interest. Points are coloured red for POIs and blue for non-POIs."
   ]
  },
  {
   "cell_type": "code",
   "execution_count": 48,
   "metadata": {
    "collapsed": false,
    "scrolled": true
   },
   "outputs": [
    {
     "data": {
      "text/plain": [
       "<seaborn.axisgrid.PairGrid at 0x13f50d750>"
      ]
     },
     "execution_count": 48,
     "metadata": {},
     "output_type": "execute_result"
    },
    {
     "data": {
      "image/png": "[encoded data removed]",
      "text/plain": [
       "<matplotlib.figure.Figure at 0x13f50d850>"
      ]
     },
     "metadata": {},
     "output_type": "display_data"
    }
   ],
   "source": [
    "import seaborn as sns\n",
    "g = sns.PairGrid(df, vars=['salary','bonus','total_stock_value','total_payments'],\n",
    "                hue='poi')\n",
    "g.map_lower(plt.scatter)\n",
    "g.map_upper(plt.scatter)\n",
    "g.map_diag(sns.kdeplot, lw=1)"
   ]
  },
  {
   "cell_type": "markdown",
   "metadata": {},
   "source": [
    "One particular points stands out in all of the scatter plots as being far greater than the others. It is also interesting to note that this point is not a POI. This point will be investigated further."
   ]
  },
  {
   "cell_type": "code",
   "execution_count": 54,
   "metadata": {
    "collapsed": false
   },
   "outputs": [
    {
     "data": {
      "text/html": [
       "<div>\n",
       "<table border=\"1\" class=\"dataframe\">\n",
       "  <thead>\n",
       "    <tr style=\"text-align: right;\">\n",
       "      <th></th>\n",
       "      <th>salary</th>\n",
       "      <th>to_messages</th>\n",
       "      <th>deferral_payments</th>\n",
       "      <th>total_payments</th>\n",
       "      <th>exercised_stock_options</th>\n",
       "      <th>bonus</th>\n",
       "      <th>restricted_stock</th>\n",
       "      <th>shared_receipt_with_poi</th>\n",
       "      <th>restricted_stock_deferred</th>\n",
       "      <th>total_stock_value</th>\n",
       "      <th>...</th>\n",
       "      <th>from_messages</th>\n",
       "      <th>other</th>\n",
       "      <th>from_this_person_to_poi</th>\n",
       "      <th>poi</th>\n",
       "      <th>director_fees</th>\n",
       "      <th>deferred_income</th>\n",
       "      <th>long_term_incentive</th>\n",
       "      <th>email_address</th>\n",
       "      <th>from_poi_to_this_person</th>\n",
       "      <th>email_withheld</th>\n",
       "    </tr>\n",
       "  </thead>\n",
       "  <tbody>\n",
       "    <tr>\n",
       "      <th>TOTAL</th>\n",
       "      <td>26704229</td>\n",
       "      <td>1211</td>\n",
       "      <td>32083396</td>\n",
       "      <td>309886585</td>\n",
       "      <td>311764000</td>\n",
       "      <td>97343619</td>\n",
       "      <td>130322299</td>\n",
       "      <td>740.5</td>\n",
       "      <td>-7576788</td>\n",
       "      <td>434509511</td>\n",
       "      <td>...</td>\n",
       "      <td>41</td>\n",
       "      <td>42667589</td>\n",
       "      <td>8</td>\n",
       "      <td>False</td>\n",
       "      <td>1398517</td>\n",
       "      <td>-27992891</td>\n",
       "      <td>48521928</td>\n",
       "      <td>NaN</td>\n",
       "      <td>35</td>\n",
       "      <td>True</td>\n",
       "    </tr>\n",
       "  </tbody>\n",
       "</table>\n",
       "<p>1 rows × 22 columns</p>\n",
       "</div>"
      ],
      "text/plain": [
       "         salary  to_messages  deferral_payments  total_payments  \\\n",
       "TOTAL  26704229         1211           32083396       309886585   \n",
       "\n",
       "       exercised_stock_options     bonus  restricted_stock  \\\n",
       "TOTAL                311764000  97343619         130322299   \n",
       "\n",
       "       shared_receipt_with_poi  restricted_stock_deferred  total_stock_value  \\\n",
       "TOTAL                    740.5                   -7576788          434509511   \n",
       "\n",
       "           ...        from_messages     other  from_this_person_to_poi    poi  \\\n",
       "TOTAL      ...                   41  42667589                        8  False   \n",
       "\n",
       "       director_fees deferred_income  long_term_incentive  email_address  \\\n",
       "TOTAL        1398517       -27992891             48521928            NaN   \n",
       "\n",
       "       from_poi_to_this_person email_withheld  \n",
       "TOTAL                       35           True  \n",
       "\n",
       "[1 rows x 22 columns]"
      ]
     },
     "execution_count": 54,
     "metadata": {},
     "output_type": "execute_result"
    }
   ],
   "source": [
    "df[df.salary > 2.5e7]"
   ]
  },
  {
   "cell_type": "markdown",
   "metadata": {},
   "source": [
    "On closer inspection it is revealed that this point does not actually represent an employee but is in fact a 'TOTAL' of all the other columns. This row was likely created during the data wrangling process and accidentically propagated through to this stage. "
   ]
  },
  {
   "cell_type": "code",
   "execution_count": 11,
   "metadata": {
    "collapsed": false,
    "scrolled": true
   },
   "outputs": [
    {
     "data": {
      "text/plain": [
       "<matplotlib.legend.Legend at 0x10b9b2910>"
      ]
     },
     "execution_count": 11,
     "metadata": {},
     "output_type": "execute_result"
    },
    {
     "data": {
      "image/png": "[encoded data removed]",
      "text/plain": [
       "<matplotlib.figure.Figure at 0x10b9b2990>"
      ]
     },
     "metadata": {},
     "output_type": "display_data"
    }
   ],
   "source": [
    "pois = df[df.poi]\n",
    "plt.scatter(pois.from_messages, pois.to_messages, c='red');\n",
    "non_pois = df[~df.poi]\n",
    "plt.scatter(non_pois.from_messages, non_pois.to_messages, c='blue');\n",
    "\n",
    "plt.xlabel('From messages')\n",
    "plt.ylabel('To messages')\n",
    "plt.legend(['POIs', 'non-POIs'])"
   ]
  },
  {
   "cell_type": "markdown",
   "metadata": {},
   "source": [
    "This plot does appear to contain some outiers. These are persons who send or receive far more emails than the average user. The point on the far right in particular sent over 14000 emails, the next closest being less then half of that. The three points that lie outside the main cluster of points are identified and examined in the code below."
   ]
  },
  {
   "cell_type": "code",
   "execution_count": 12,
   "metadata": {
    "collapsed": false
   },
   "outputs": [
    {
     "data": {
      "text/html": [
       "<div>\n",
       "<table border=\"1\" class=\"dataframe\">\n",
       "  <thead>\n",
       "    <tr style=\"text-align: right;\">\n",
       "      <th></th>\n",
       "      <th>salary</th>\n",
       "      <th>to_messages</th>\n",
       "      <th>deferral_payments</th>\n",
       "      <th>total_payments</th>\n",
       "      <th>exercised_stock_options</th>\n",
       "      <th>bonus</th>\n",
       "      <th>restricted_stock</th>\n",
       "      <th>shared_receipt_with_poi</th>\n",
       "      <th>restricted_stock_deferred</th>\n",
       "      <th>total_stock_value</th>\n",
       "      <th>...</th>\n",
       "      <th>from_messages</th>\n",
       "      <th>other</th>\n",
       "      <th>from_this_person_to_poi</th>\n",
       "      <th>poi</th>\n",
       "      <th>director_fees</th>\n",
       "      <th>deferred_income</th>\n",
       "      <th>long_term_incentive</th>\n",
       "      <th>email_address</th>\n",
       "      <th>from_poi_to_this_person</th>\n",
       "      <th>email_withheld</th>\n",
       "    </tr>\n",
       "  </thead>\n",
       "  <tbody>\n",
       "    <tr>\n",
       "      <th>KAMINSKI WINCENTY J</th>\n",
       "      <td>275101</td>\n",
       "      <td>4607</td>\n",
       "      <td>0</td>\n",
       "      <td>1086821</td>\n",
       "      <td>850010</td>\n",
       "      <td>400000</td>\n",
       "      <td>126027</td>\n",
       "      <td>583</td>\n",
       "      <td>0</td>\n",
       "      <td>976037</td>\n",
       "      <td>...</td>\n",
       "      <td>14368</td>\n",
       "      <td>4669</td>\n",
       "      <td>171</td>\n",
       "      <td>False</td>\n",
       "      <td>0</td>\n",
       "      <td>0</td>\n",
       "      <td>323466</td>\n",
       "      <td>vince.kaminski@enron.com</td>\n",
       "      <td>41</td>\n",
       "      <td>False</td>\n",
       "    </tr>\n",
       "    <tr>\n",
       "      <th>KEAN STEVEN J</th>\n",
       "      <td>404338</td>\n",
       "      <td>12754</td>\n",
       "      <td>0</td>\n",
       "      <td>1747522</td>\n",
       "      <td>2022048</td>\n",
       "      <td>1000000</td>\n",
       "      <td>4131594</td>\n",
       "      <td>3639</td>\n",
       "      <td>0</td>\n",
       "      <td>6153642</td>\n",
       "      <td>...</td>\n",
       "      <td>6759</td>\n",
       "      <td>1231</td>\n",
       "      <td>387</td>\n",
       "      <td>False</td>\n",
       "      <td>0</td>\n",
       "      <td>0</td>\n",
       "      <td>300000</td>\n",
       "      <td>steven.kean@enron.com</td>\n",
       "      <td>140</td>\n",
       "      <td>False</td>\n",
       "    </tr>\n",
       "    <tr>\n",
       "      <th>SHAPIRO RICHARD S</th>\n",
       "      <td>269076</td>\n",
       "      <td>15149</td>\n",
       "      <td>0</td>\n",
       "      <td>1057548</td>\n",
       "      <td>607837</td>\n",
       "      <td>650000</td>\n",
       "      <td>379164</td>\n",
       "      <td>4527</td>\n",
       "      <td>0</td>\n",
       "      <td>987001</td>\n",
       "      <td>...</td>\n",
       "      <td>1215</td>\n",
       "      <td>705</td>\n",
       "      <td>65</td>\n",
       "      <td>False</td>\n",
       "      <td>0</td>\n",
       "      <td>0</td>\n",
       "      <td>0</td>\n",
       "      <td>richard.shapiro@enron.com</td>\n",
       "      <td>74</td>\n",
       "      <td>False</td>\n",
       "    </tr>\n",
       "  </tbody>\n",
       "</table>\n",
       "<p>3 rows × 22 columns</p>\n",
       "</div>"
      ],
      "text/plain": [
       "                     salary  to_messages  deferral_payments  total_payments  \\\n",
       "KAMINSKI WINCENTY J  275101         4607                  0         1086821   \n",
       "KEAN STEVEN J        404338        12754                  0         1747522   \n",
       "SHAPIRO RICHARD S    269076        15149                  0         1057548   \n",
       "\n",
       "                     exercised_stock_options    bonus  restricted_stock  \\\n",
       "KAMINSKI WINCENTY J                   850010   400000            126027   \n",
       "KEAN STEVEN J                        2022048  1000000           4131594   \n",
       "SHAPIRO RICHARD S                     607837   650000            379164   \n",
       "\n",
       "                     shared_receipt_with_poi  restricted_stock_deferred  \\\n",
       "KAMINSKI WINCENTY J                      583                          0   \n",
       "KEAN STEVEN J                           3639                          0   \n",
       "SHAPIRO RICHARD S                       4527                          0   \n",
       "\n",
       "                     total_stock_value      ...        from_messages  other  \\\n",
       "KAMINSKI WINCENTY J             976037      ...                14368   4669   \n",
       "KEAN STEVEN J                  6153642      ...                 6759   1231   \n",
       "SHAPIRO RICHARD S               987001      ...                 1215    705   \n",
       "\n",
       "                     from_this_person_to_poi    poi  director_fees  \\\n",
       "KAMINSKI WINCENTY J                      171  False              0   \n",
       "KEAN STEVEN J                            387  False              0   \n",
       "SHAPIRO RICHARD S                         65  False              0   \n",
       "\n",
       "                    deferred_income  long_term_incentive  \\\n",
       "KAMINSKI WINCENTY J               0               323466   \n",
       "KEAN STEVEN J                     0               300000   \n",
       "SHAPIRO RICHARD S                 0                    0   \n",
       "\n",
       "                                 email_address  from_poi_to_this_person  \\\n",
       "KAMINSKI WINCENTY J   vince.kaminski@enron.com                       41   \n",
       "KEAN STEVEN J            steven.kean@enron.com                      140   \n",
       "SHAPIRO RICHARD S    richard.shapiro@enron.com                       74   \n",
       "\n",
       "                    email_withheld  \n",
       "KAMINSKI WINCENTY J          False  \n",
       "KEAN STEVEN J                False  \n",
       "SHAPIRO RICHARD S            False  \n",
       "\n",
       "[3 rows x 22 columns]"
      ]
     },
     "execution_count": 12,
     "metadata": {},
     "output_type": "execute_result"
    },
    {
     "data": {
      "image/png": "[encoded data removed]",
      "text/plain": [
       "<matplotlib.figure.Figure at 0x1107c2b90>"
      ]
     },
     "metadata": {},
     "output_type": "display_data"
    }
   ],
   "source": [
    "# extract the outlier points\n",
    "outliers = df[np.logical_or(df.from_messages > 6000, df.to_messages > 10000)]\n",
    "\n",
    "#plot them in red with the originals\n",
    "plt.scatter(df.from_messages, df.to_messages, c='blue');\n",
    "plt.scatter(outliers.from_messages, outliers.to_messages, c='red')\n",
    "plt.xlabel('From messages')\n",
    "plt.ylabel('To messages')\n",
    "plt.legend(['Inliers', 'Potential Outliers'])\n",
    "\n",
    "#display in the notebook\n",
    "outliers"
   ]
  },
  {
   "cell_type": "markdown",
   "metadata": {},
   "source": [
    "There does not appear to be anything strange about these points other than their sent/received emails being way above average. Also as the counts of emails were generated automatically from a script it is unlikely these values are due to an error. These points are not capturing the general trend of email usage but are instead most likely people in some special job position that requires them to do a lot of communication by email. Additionally none of these points are POI so the large number of emails is not indicitive of this. For these reasons I deemed it unlikely that these points would be useful to improve the generalization of a machine learning algorithm and decided to remove them."
   ]
  },
  {
   "cell_type": "code",
   "execution_count": 13,
   "metadata": {
    "collapsed": false
   },
   "outputs": [],
   "source": [
    "# remove the outlier candidates from the data set\n",
    "df = df[df.from_messages < 6000]\n",
    "df = df[df.to_messages < 10000]"
   ]
  },
  {
   "cell_type": "markdown",
   "metadata": {},
   "source": [
    "It was also reccomended to search for outliers using the financial features as well as the email features. Again I decided to do this using histogram plots. "
   ]
  },
  {
   "cell_type": "markdown",
   "metadata": {},
   "source": [
    "## First attempty at Classifying the Dataset"
   ]
  },
  {
   "cell_type": "code",
   "execution_count": null,
   "metadata": {
    "collapsed": false
   },
   "outputs": [],
   "source": [
    "# Convert the data frame into a sklearn compatible data set\n",
    "X = df.drop(['poi', 'email_address'], axis=1)\n",
    "y = df.poi"
   ]
  },
  {
   "cell_type": "code",
   "execution_count": null,
   "metadata": {
    "collapsed": false
   },
   "outputs": [],
   "source": [
    "# firstly get an estimate of the kind of accuracies we can expect with the unprocessed features\n",
    "from sklearn.ensemble import RandomForestClassifier, AdaBoostClassifier\n",
    "from sklearn.naive_bayes import GaussianNB\n",
    "\n",
    "from sklearn.cross_validation import cross_val_score, StratifiedKFold, StratifiedShuffleSplit\n",
    "from sklearn.metrics import classification_report\n",
    "\n",
    "from sklearn.metrics import make_scorer, accuracy_score, precision_score, recall_score, f1_score\n",
    "\n",
    "def assess_classifier(clf, X, y):\n",
    "\n",
    "\n",
    "    cv = StratifiedShuffleSplit(y, 100, random_state=42)\n",
    "\n",
    "    print 'accuracy', cross_val_score(clf, X, y, cv=cv).mean()\n",
    "    print 'precision', cross_val_score(clf, X, y, scoring=make_scorer(precision_score), cv=cv).mean()\n",
    "    print 'recall', cross_val_score(clf, X, y, scoring=make_scorer(recall_score), cv=cv).mean()\n",
    "    \n",
    "    \n",
    "def assess_features(X, y):\n",
    "    clf = RandomForestClassifier(random_state=42)\n",
    "    assess_classifier(clf, X, y)\n",
    "    \n",
    "    print\n",
    "    \n",
    "    clf = GaussianNB()\n",
    "    assess_classifier(clf, X, y)    \n",
    "    print \n",
    "    \n",
    "    clf = AdaBoostClassifier(random_state=42)\n",
    "    assess_classifier(clf, X, y)"
   ]
  },
  {
   "cell_type": "code",
   "execution_count": null,
   "metadata": {
    "collapsed": false
   },
   "outputs": [],
   "source": [
    "assess_features(X, y)"
   ]
  },
  {
   "cell_type": "markdown",
   "metadata": {},
   "source": [
    "Straight out of the box the random forest is doing much better in terms of accuracy. Looking at recall however it is a totally different story. To pass this project we require >0.3 for both precison and recall so clearly some work is needed here."
   ]
  },
  {
   "cell_type": "markdown",
   "metadata": {},
   "source": [
    "## Feature Engineering\n",
    "\n",
    "Based on the lessons I decided to implement the features fraction__of_messages_[to|from]_poi and see how these influence classification performance. "
   ]
  },
  {
   "cell_type": "code",
   "execution_count": null,
   "metadata": {
    "collapsed": false
   },
   "outputs": [],
   "source": [
    "X_new = X.copy()\n",
    "X_new['fracion_of_messages_to_poi'] = X.from_this_person_to_poi / X.from_messages\n",
    "X_new['fracion_of_messages_from_poi'] = X.from_poi_to_this_person / X.to_messages\n",
    "X_new = X_new.drop('from_this_person_to_poi', axis=1)\n",
    "X_new = X_new.drop('from_poi_to_this_person', axis=1)"
   ]
  },
  {
   "cell_type": "code",
   "execution_count": null,
   "metadata": {
    "collapsed": false
   },
   "outputs": [],
   "source": [
    "assess_features(X_new, y)"
   ]
  },
  {
   "cell_type": "markdown",
   "metadata": {},
   "source": [
    "While this new feature made little difference to the naive bayes classifier is yielded significant performance increases in the random forest and adaboost classifiers. "
   ]
  },
  {
   "cell_type": "markdown",
   "metadata": {},
   "source": [
    "## Feature Selection\n",
    "It is thought that many of the features provided are redundant and the algorithms would perform better with them removed. The random forest is able to provide an estimate of feature importance directly so we will begin by looking at that"
   ]
  },
  {
   "cell_type": "code",
   "execution_count": null,
   "metadata": {
    "collapsed": false
   },
   "outputs": [],
   "source": [
    "# http://stackoverflow.com/questions/16010869/python-plot-a-bar-using-matplotlib-using-a-dictionary\n",
    "\n",
    "import operator, pprint, collections\n",
    "\n",
    "clf = AdaBoostClassifier(random_state=42)\n",
    "\n",
    "def plot_feature_importances(clf, X, y):\n",
    "    clf.fit(X, y)\n",
    "    importances = sorted(zip(X.columns, clf.feature_importances_), key=operator.itemgetter(1))[::-1]\n",
    "    importances = collections.OrderedDict(importances)\n",
    "    plt.bar(range(len(importances)), importances.values(), align='center')\n",
    "    plt.xticks(range(len(importances)), importances.keys(), rotation='vertical')\n",
    "    plt.title('Feature Importances')\n",
    "    plt.ylabel('Importance')\n",
    "    plt.show()\n",
    "    return importances"
   ]
  },
  {
   "cell_type": "code",
   "execution_count": null,
   "metadata": {
    "collapsed": false
   },
   "outputs": [],
   "source": [
    "print 'Random Forest Feature Importances'\n",
    "rf_importances = plot_feature_importances(RandomForestClassifier(), X_new, y)\n",
    "print 'AdaBoost Feature Importances'\n",
    "ada_importances = plot_feature_importances(AdaBoostClassifier(), X_new, y)"
   ]
  },
  {
   "cell_type": "markdown",
   "metadata": {},
   "source": [
    "This plot gives us some very useful information. The email_withheld feature we created is extremely uninformative and should be dropped. It seems safe to say that the lowest 5-7 features could also be dropped.\n",
    "\n",
    "It is also interesting to see which features are informative to the classifiers and the similarities between the models. There appears to be a good mix of financial (expenses, deferred_income, long_term_incentive) with email features (shared_recipt_with_poi) in the top 5. \n",
    "\n",
    "I decided to drop the 5 lowest features as rated by the AdaBoost classifier and re-evaluate the model."
   ]
  },
  {
   "cell_type": "code",
   "execution_count": null,
   "metadata": {
    "collapsed": false
   },
   "outputs": [],
   "source": [
    "X_new_selected = X_new.drop(ada_importances.keys()[-5:], axis = 1)\n",
    "X_new_selected.columns"
   ]
  },
  {
   "cell_type": "code",
   "execution_count": null,
   "metadata": {
    "collapsed": false
   },
   "outputs": [],
   "source": [
    "assess_features(X_new_selected, y)"
   ]
  },
  {
   "cell_type": "markdown",
   "metadata": {},
   "source": [
    "The yielded an increase in all classification metrics of the classifiers. At this stage the AdaBoost classifier has reached the desired level of precision and recall for a submission.\n",
    "\n",
    "For all the classifiers considered features scaling is not required"
   ]
  },
  {
   "cell_type": "markdown",
   "metadata": {},
   "source": [
    "## Parameter tuning for RF and AdaBoost\n",
    "Due to the consistent poor performance of the naive bayes classifier despite the lack of parameters I decided to abandon it for the remainder of the analysis.\n",
    "\n",
    "To select values for the criterion, max_features, max_depth, min_samples_split and min_samples_leaf of the trees in the random forest and the trees in the AdaBoost I decided to apply a CV grid search using the same grid for both algorithms.\n",
    "\n",
    "The question is what metric to maximize? As the classifier we submit must have a good result for both precision and recall it makes sense to optimize for these. The f1-score is defined as a combination of the precision and recall so I decided to use this as the metric to optimze parameters for."
   ]
  },
  {
   "cell_type": "code",
   "execution_count": null,
   "metadata": {
    "collapsed": false
   },
   "outputs": [],
   "source": [
    "from sklearn.grid_search import GridSearchCV\n",
    "from sklearn.tree import DecisionTreeClassifier\n",
    "\n",
    "n_features = X_new_selected.shape[1]\n",
    "grid = {\n",
    "    'criterion':('gini', 'entropy'),\n",
    "    'min_samples_leaf':range(1, 50, 5),\n",
    "    'max_depth': range(1, 10)\n",
    "}\n",
    "\n",
    "search = GridSearchCV(RandomForestClassifier(random_state=42),\n",
    "                      grid, make_scorer(f1_score), cv=StratifiedKFold(y), n_jobs=-1)\n",
    "search.fit(X_new_selected, y)\n",
    "print search.best_score_\n",
    "print search.best_params_\n"
   ]
  },
  {
   "cell_type": "code",
   "execution_count": null,
   "metadata": {
    "collapsed": false
   },
   "outputs": [],
   "source": [
    "assess_classifier(search.best_estimator_, X_new_selected, y)"
   ]
  },
  {
   "cell_type": "markdown",
   "metadata": {},
   "source": [
    "In scikit learn documentation it suggests: \n",
    "\n",
    "\"The main parameters to tune to obtain good results are n_estimators and the complexity of the base estimators (e.g., its depth max_depth or minimum required number of samples at a leaf min_samples_leaf in case of decision trees).\"\n",
    "\n",
    "so I decided to grid search over these parameters."
   ]
  },
  {
   "cell_type": "code",
   "execution_count": null,
   "metadata": {
    "collapsed": false
   },
   "outputs": [],
   "source": [
    "grid = {\n",
    "    'base_estimator__criterion': ('gini', 'entropy'),\n",
    "    'base_estimator__min_samples_leaf':range(1, 50, 5),\n",
    "    'base_estimator__max_depth': range(1, 10),\n",
    "    'n_estimators': range(1,100,10)\n",
    "}\n",
    "\n",
    "search = GridSearchCV(AdaBoostClassifier(DecisionTreeClassifier(random_state=42), random_state=42), \n",
    "                      grid, make_scorer(f1_score), cv=StratifiedKFold(y), n_jobs=-1)\n",
    "search.fit(X_new_selected, y)\n",
    "print search.best_score_\n",
    "print search.best_params_"
   ]
  },
  {
   "cell_type": "code",
   "execution_count": null,
   "metadata": {
    "collapsed": false
   },
   "outputs": [],
   "source": [
    "assess_classifier(search.best_estimator_, X_new_selected, y)"
   ]
  },
  {
   "cell_type": "markdown",
   "metadata": {},
   "source": [
    "After optimization the AdaBoost calssifier performed much better in the precision and recall scores for this problem. I decided to use this classifier for my submission. \n",
    "\n",
    "Finally I wanted to see if I could get away with using less base classifiers in the boosting algorithm. If so this could make the whole algorithm run faster at no cost. To assess this I used a validation curve over the number of classifiers."
   ]
  },
  {
   "cell_type": "code",
   "execution_count": null,
   "metadata": {
    "collapsed": true
   },
   "outputs": [],
   "source": [
    "#http://scikit-learn.org/stable/auto_examples/model_selection/plot_validation_curve.html\n",
    "\n",
    "from sklearn.learning_curve import validation_curve\n",
    "def plot_validation_curve(clf, X, y, param, param_range):\n",
    "\n",
    "    train_scores, test_scores = validation_curve(\n",
    "        clf, X, y, param_name=param, param_range=param_range,\n",
    "        cv=StratifiedKFold(y), scoring=make_scorer(f1_score), n_jobs=1)\n",
    "    train_scores_mean = np.mean(train_scores, axis=1)\n",
    "    train_scores_std = np.std(train_scores, axis=1)\n",
    "    test_scores_mean = np.mean(test_scores, axis=1)\n",
    "    test_scores_std = np.std(test_scores, axis=1)\n",
    "\n",
    "    plt.ylabel(\"Score\")\n",
    "    plt.xlabel(param)\n",
    "    plt.ylim(0.0, 1.1)\n",
    "    plt.semilogx(param_range, train_scores_mean, label=\"Training score\", color=\"r\")\n",
    "    plt.fill_between(param_range, train_scores_mean - train_scores_std,\n",
    "                     train_scores_mean + train_scores_std, alpha=0.2, color=\"r\")\n",
    "    plt.semilogx(param_range, test_scores_mean, label=\"Cross-validation score\",\n",
    "                 color=\"g\")\n",
    "    plt.fill_between(param_range, test_scores_mean - test_scores_std,\n",
    "                     test_scores_mean + test_scores_std, alpha=0.2, color=\"g\")\n",
    "    plt.legend(loc=\"best\")\n",
    "    plt.show()"
   ]
  },
  {
   "cell_type": "code",
   "execution_count": null,
   "metadata": {
    "collapsed": false
   },
   "outputs": [],
   "source": [
    "plot_validation_curve(search.best_estimator_, X_new_selected, y, 'n_estimators', range(1,100,1))"
   ]
  },
  {
   "cell_type": "markdown",
   "metadata": {},
   "source": [
    "From this plot it suggests that reducing the number of estimators below its current value is likely to reslt in a large decrease in f1 score so I chose to leave it at the optimized value."
   ]
  }
 ],
 "metadata": {
  "kernelspec": {
   "display_name": "Python 2",
   "language": "python",
   "name": "python2"
  },
  "language_info": {
   "codemirror_mode": {
    "name": "ipython",
    "version": 2
   },
   "file_extension": ".py",
   "mimetype": "text/x-python",
   "name": "python",
   "nbconvert_exporter": "python",
   "pygments_lexer": "ipython2",
   "version": "2.7.11"
  }
 },
 "nbformat": 4,
 "nbformat_minor": 0
}
